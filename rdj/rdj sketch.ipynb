{
 "cells": [
  {
   "cell_type": "code",
   "execution_count": 1,
   "id": "a560eca4",
   "metadata": {},
   "outputs": [
    {
     "name": "stdout",
     "output_type": "stream",
     "text": [
      "Defaulting to user installation because normal site-packages is not writeable\n",
      "Requirement already satisfied: sketchpy in c:\\users\\shivansh\\appdata\\roaming\\python\\python39\\site-packages (0.0.27)\n",
      "Requirement already satisfied: turtle==0.0.1 in c:\\users\\shivansh\\appdata\\roaming\\python\\python39\\site-packages (from sketchpy) (0.0.1)\n",
      "Requirement already satisfied: svgpathtools in c:\\users\\shivansh\\appdata\\roaming\\python\\python39\\site-packages (from sketchpy) (1.5.1)\n",
      "Requirement already satisfied: tqdm in c:\\programdata\\anaconda3\\lib\\site-packages (from sketchpy) (4.64.0)\n",
      "Requirement already satisfied: opencv-python in c:\\users\\shivansh\\appdata\\roaming\\python\\python39\\site-packages (from sketchpy) (4.6.0.66)\n",
      "Requirement already satisfied: svg.path in c:\\users\\shivansh\\appdata\\roaming\\python\\python39\\site-packages (from sketchpy) (6.2)\n",
      "Requirement already satisfied: wheel in c:\\programdata\\anaconda3\\lib\\site-packages (from sketchpy) (0.37.1)\n",
      "Requirement already satisfied: Pillow in c:\\programdata\\anaconda3\\lib\\site-packages (from sketchpy) (9.0.1)\n",
      "Requirement already satisfied: PyYAML>=3.08 in c:\\programdata\\anaconda3\\lib\\site-packages (from turtle==0.0.1->sketchpy) (6.0)\n",
      "Requirement already satisfied: numpy>=1.14.5 in c:\\programdata\\anaconda3\\lib\\site-packages (from opencv-python->sketchpy) (1.21.5)\n",
      "Requirement already satisfied: svgwrite in c:\\users\\shivansh\\appdata\\roaming\\python\\python39\\site-packages (from svgpathtools->sketchpy) (1.4.3)\n",
      "Requirement already satisfied: scipy in c:\\programdata\\anaconda3\\lib\\site-packages (from svgpathtools->sketchpy) (1.7.3)\n",
      "Requirement already satisfied: colorama in c:\\programdata\\anaconda3\\lib\\site-packages (from tqdm->sketchpy) (0.4.4)\n",
      "Note: you may need to restart the kernel to use updated packages.\n"
     ]
    }
   ],
   "source": [
    "%pip install sketchpy\n",
    "from sketchpy import library as lib\n",
    "obj = lib.rdj()\n",
    "obj.draw()"
   ]
  },
  {
   "cell_type": "code",
   "execution_count": null,
   "id": "8982b3af",
   "metadata": {},
   "outputs": [],
   "source": []
  }
 ],
 "metadata": {
  "kernelspec": {
   "display_name": "Python 3 (ipykernel)",
   "language": "python",
   "name": "python3"
  },
  "language_info": {
   "codemirror_mode": {
    "name": "ipython",
    "version": 3
   },
   "file_extension": ".py",
   "mimetype": "text/x-python",
   "name": "python",
   "nbconvert_exporter": "python",
   "pygments_lexer": "ipython3",
   "version": "3.9.12"
  }
 },
 "nbformat": 4,
 "nbformat_minor": 5
}
